{
  "cells": [
    {
      "cell_type": "markdown",
      "metadata": {
        "id": "N_gjPYaj3hzi"
      },
      "source": [
        "## Rendimiento Messi 22/23\n",
        "El ganador del balón de oro este año ha levantado mucha polémica, pero que dicen los datos sobre su rendimiento en la cancha."
      ]
    },
    {
      "cell_type": "code",
      "execution_count": null,
      "metadata": {
        "colab": {
          "background_save": true,
          "base_uri": "https://localhost:8080/",
          "height": 206
        },
        "id": "Bxre_47Eu2CO",
        "outputId": "48a4bf65-0187-49aa-a6a8-978c9567040c"
      },
      "outputs": [
        {
          "data": {
            "text/html": [
              "\n",
              "  <div id=\"df-07a88a01-b2b2-4bee-b20f-25b1a9ec36a9\" class=\"colab-df-container\">\n",
              "    <div>\n",
              "<style scoped>\n",
              "    .dataframe tbody tr th:only-of-type {\n",
              "        vertical-align: middle;\n",
              "    }\n",
              "\n",
              "    .dataframe tbody tr th {\n",
              "        vertical-align: top;\n",
              "    }\n",
              "\n",
              "    .dataframe thead th {\n",
              "        text-align: right;\n",
              "    }\n",
              "</style>\n",
              "<table border=\"1\" class=\"dataframe\">\n",
              "  <thead>\n",
              "    <tr style=\"text-align: right;\">\n",
              "      <th></th>\n",
              "      <th>Comp</th>\n",
              "      <th>Squad</th>\n",
              "      <th>Result</th>\n",
              "      <th>Min</th>\n",
              "      <th>Gls</th>\n",
              "      <th>Ast</th>\n",
              "      <th>Sh</th>\n",
              "      <th>SoT</th>\n",
              "      <th>PrgP</th>\n",
              "      <th>Succ</th>\n",
              "    </tr>\n",
              "  </thead>\n",
              "  <tbody>\n",
              "    <tr>\n",
              "      <th>1</th>\n",
              "      <td>Ligue 1</td>\n",
              "      <td>Paris S-G</td>\n",
              "      <td>W 5–0</td>\n",
              "      <td>90.0</td>\n",
              "      <td>2.0</td>\n",
              "      <td>1.0</td>\n",
              "      <td>6.0</td>\n",
              "      <td>4.0</td>\n",
              "      <td>14.0</td>\n",
              "      <td>6.0</td>\n",
              "    </tr>\n",
              "    <tr>\n",
              "      <th>2</th>\n",
              "      <td>Ligue 1</td>\n",
              "      <td>Paris S-G</td>\n",
              "      <td>W 5–2</td>\n",
              "      <td>90.0</td>\n",
              "      <td>0.0</td>\n",
              "      <td>0.0</td>\n",
              "      <td>5.0</td>\n",
              "      <td>3.0</td>\n",
              "      <td>14.0</td>\n",
              "      <td>4.0</td>\n",
              "    </tr>\n",
              "    <tr>\n",
              "      <th>3</th>\n",
              "      <td>Ligue 1</td>\n",
              "      <td>Paris S-G</td>\n",
              "      <td>W 7–1</td>\n",
              "      <td>90.0</td>\n",
              "      <td>1.0</td>\n",
              "      <td>1.0</td>\n",
              "      <td>2.0</td>\n",
              "      <td>2.0</td>\n",
              "      <td>12.0</td>\n",
              "      <td>2.0</td>\n",
              "    </tr>\n",
              "    <tr>\n",
              "      <th>4</th>\n",
              "      <td>Ligue 1</td>\n",
              "      <td>Paris S-G</td>\n",
              "      <td>D 1–1</td>\n",
              "      <td>86.0</td>\n",
              "      <td>0.0</td>\n",
              "      <td>0.0</td>\n",
              "      <td>2.0</td>\n",
              "      <td>0.0</td>\n",
              "      <td>9.0</td>\n",
              "      <td>4.0</td>\n",
              "    </tr>\n",
              "    <tr>\n",
              "      <th>5</th>\n",
              "      <td>Ligue 1</td>\n",
              "      <td>Paris S-G</td>\n",
              "      <td>W 3–0</td>\n",
              "      <td>82.0</td>\n",
              "      <td>0.0</td>\n",
              "      <td>2.0</td>\n",
              "      <td>7.0</td>\n",
              "      <td>4.0</td>\n",
              "      <td>10.0</td>\n",
              "      <td>3.0</td>\n",
              "    </tr>\n",
              "  </tbody>\n",
              "</table>\n",
              "</div>\n",
              "    <div class=\"colab-df-buttons\">\n",
              "\n",
              "  <div class=\"colab-df-container\">\n",
              "    <button class=\"colab-df-convert\" onclick=\"convertToInteractive('df-07a88a01-b2b2-4bee-b20f-25b1a9ec36a9')\"\n",
              "            title=\"Convert this dataframe to an interactive table.\"\n",
              "            style=\"display:none;\">\n",
              "\n",
              "  <svg xmlns=\"http://www.w3.org/2000/svg\" height=\"24px\" viewBox=\"0 -960 960 960\">\n",
              "    <path d=\"M120-120v-720h720v720H120Zm60-500h600v-160H180v160Zm220 220h160v-160H400v160Zm0 220h160v-160H400v160ZM180-400h160v-160H180v160Zm440 0h160v-160H620v160ZM180-180h160v-160H180v160Zm440 0h160v-160H620v160Z\"/>\n",
              "  </svg>\n",
              "    </button>\n",
              "\n",
              "  <style>\n",
              "    .colab-df-container {\n",
              "      display:flex;\n",
              "      gap: 12px;\n",
              "    }\n",
              "\n",
              "    .colab-df-convert {\n",
              "      background-color: #E8F0FE;\n",
              "      border: none;\n",
              "      border-radius: 50%;\n",
              "      cursor: pointer;\n",
              "      display: none;\n",
              "      fill: #1967D2;\n",
              "      height: 32px;\n",
              "      padding: 0 0 0 0;\n",
              "      width: 32px;\n",
              "    }\n",
              "\n",
              "    .colab-df-convert:hover {\n",
              "      background-color: #E2EBFA;\n",
              "      box-shadow: 0px 1px 2px rgba(60, 64, 67, 0.3), 0px 1px 3px 1px rgba(60, 64, 67, 0.15);\n",
              "      fill: #174EA6;\n",
              "    }\n",
              "\n",
              "    .colab-df-buttons div {\n",
              "      margin-bottom: 4px;\n",
              "    }\n",
              "\n",
              "    [theme=dark] .colab-df-convert {\n",
              "      background-color: #3B4455;\n",
              "      fill: #D2E3FC;\n",
              "    }\n",
              "\n",
              "    [theme=dark] .colab-df-convert:hover {\n",
              "      background-color: #434B5C;\n",
              "      box-shadow: 0px 1px 3px 1px rgba(0, 0, 0, 0.15);\n",
              "      filter: drop-shadow(0px 1px 2px rgba(0, 0, 0, 0.3));\n",
              "      fill: #FFFFFF;\n",
              "    }\n",
              "  </style>\n",
              "\n",
              "    <script>\n",
              "      const buttonEl =\n",
              "        document.querySelector('#df-07a88a01-b2b2-4bee-b20f-25b1a9ec36a9 button.colab-df-convert');\n",
              "      buttonEl.style.display =\n",
              "        google.colab.kernel.accessAllowed ? 'block' : 'none';\n",
              "\n",
              "      async function convertToInteractive(key) {\n",
              "        const element = document.querySelector('#df-07a88a01-b2b2-4bee-b20f-25b1a9ec36a9');\n",
              "        const dataTable =\n",
              "          await google.colab.kernel.invokeFunction('convertToInteractive',\n",
              "                                                    [key], {});\n",
              "        if (!dataTable) return;\n",
              "\n",
              "        const docLinkHtml = 'Like what you see? Visit the ' +\n",
              "          '<a target=\"_blank\" href=https://colab.research.google.com/notebooks/data_table.ipynb>data table notebook</a>'\n",
              "          + ' to learn more about interactive tables.';\n",
              "        element.innerHTML = '';\n",
              "        dataTable['output_type'] = 'display_data';\n",
              "        await google.colab.output.renderOutput(dataTable, element);\n",
              "        const docLink = document.createElement('div');\n",
              "        docLink.innerHTML = docLinkHtml;\n",
              "        element.appendChild(docLink);\n",
              "      }\n",
              "    </script>\n",
              "  </div>\n",
              "\n",
              "\n",
              "<div id=\"df-59e28dd5-f6c0-466a-a1a5-21a0750c1e57\">\n",
              "  <button class=\"colab-df-quickchart\" onclick=\"quickchart('df-59e28dd5-f6c0-466a-a1a5-21a0750c1e57')\"\n",
              "            title=\"Suggest charts\"\n",
              "            style=\"display:none;\">\n",
              "\n",
              "<svg xmlns=\"http://www.w3.org/2000/svg\" height=\"24px\"viewBox=\"0 0 24 24\"\n",
              "     width=\"24px\">\n",
              "    <g>\n",
              "        <path d=\"M19 3H5c-1.1 0-2 .9-2 2v14c0 1.1.9 2 2 2h14c1.1 0 2-.9 2-2V5c0-1.1-.9-2-2-2zM9 17H7v-7h2v7zm4 0h-2V7h2v10zm4 0h-2v-4h2v4z\"/>\n",
              "    </g>\n",
              "</svg>\n",
              "  </button>\n",
              "\n",
              "<style>\n",
              "  .colab-df-quickchart {\n",
              "      --bg-color: #E8F0FE;\n",
              "      --fill-color: #1967D2;\n",
              "      --hover-bg-color: #E2EBFA;\n",
              "      --hover-fill-color: #174EA6;\n",
              "      --disabled-fill-color: #AAA;\n",
              "      --disabled-bg-color: #DDD;\n",
              "  }\n",
              "\n",
              "  [theme=dark] .colab-df-quickchart {\n",
              "      --bg-color: #3B4455;\n",
              "      --fill-color: #D2E3FC;\n",
              "      --hover-bg-color: #434B5C;\n",
              "      --hover-fill-color: #FFFFFF;\n",
              "      --disabled-bg-color: #3B4455;\n",
              "      --disabled-fill-color: #666;\n",
              "  }\n",
              "\n",
              "  .colab-df-quickchart {\n",
              "    background-color: var(--bg-color);\n",
              "    border: none;\n",
              "    border-radius: 50%;\n",
              "    cursor: pointer;\n",
              "    display: none;\n",
              "    fill: var(--fill-color);\n",
              "    height: 32px;\n",
              "    padding: 0;\n",
              "    width: 32px;\n",
              "  }\n",
              "\n",
              "  .colab-df-quickchart:hover {\n",
              "    background-color: var(--hover-bg-color);\n",
              "    box-shadow: 0 1px 2px rgba(60, 64, 67, 0.3), 0 1px 3px 1px rgba(60, 64, 67, 0.15);\n",
              "    fill: var(--button-hover-fill-color);\n",
              "  }\n",
              "\n",
              "  .colab-df-quickchart-complete:disabled,\n",
              "  .colab-df-quickchart-complete:disabled:hover {\n",
              "    background-color: var(--disabled-bg-color);\n",
              "    fill: var(--disabled-fill-color);\n",
              "    box-shadow: none;\n",
              "  }\n",
              "\n",
              "  .colab-df-spinner {\n",
              "    border: 2px solid var(--fill-color);\n",
              "    border-color: transparent;\n",
              "    border-bottom-color: var(--fill-color);\n",
              "    animation:\n",
              "      spin 1s steps(1) infinite;\n",
              "  }\n",
              "\n",
              "  @keyframes spin {\n",
              "    0% {\n",
              "      border-color: transparent;\n",
              "      border-bottom-color: var(--fill-color);\n",
              "      border-left-color: var(--fill-color);\n",
              "    }\n",
              "    20% {\n",
              "      border-color: transparent;\n",
              "      border-left-color: var(--fill-color);\n",
              "      border-top-color: var(--fill-color);\n",
              "    }\n",
              "    30% {\n",
              "      border-color: transparent;\n",
              "      border-left-color: var(--fill-color);\n",
              "      border-top-color: var(--fill-color);\n",
              "      border-right-color: var(--fill-color);\n",
              "    }\n",
              "    40% {\n",
              "      border-color: transparent;\n",
              "      border-right-color: var(--fill-color);\n",
              "      border-top-color: var(--fill-color);\n",
              "    }\n",
              "    60% {\n",
              "      border-color: transparent;\n",
              "      border-right-color: var(--fill-color);\n",
              "    }\n",
              "    80% {\n",
              "      border-color: transparent;\n",
              "      border-right-color: var(--fill-color);\n",
              "      border-bottom-color: var(--fill-color);\n",
              "    }\n",
              "    90% {\n",
              "      border-color: transparent;\n",
              "      border-bottom-color: var(--fill-color);\n",
              "    }\n",
              "  }\n",
              "</style>\n",
              "\n",
              "  <script>\n",
              "    async function quickchart(key) {\n",
              "      const quickchartButtonEl =\n",
              "        document.querySelector('#' + key + ' button');\n",
              "      quickchartButtonEl.disabled = true;  // To prevent multiple clicks.\n",
              "      quickchartButtonEl.classList.add('colab-df-spinner');\n",
              "      try {\n",
              "        const charts = await google.colab.kernel.invokeFunction(\n",
              "            'suggestCharts', [key], {});\n",
              "      } catch (error) {\n",
              "        console.error('Error during call to suggestCharts:', error);\n",
              "      }\n",
              "      quickchartButtonEl.classList.remove('colab-df-spinner');\n",
              "      quickchartButtonEl.classList.add('colab-df-quickchart-complete');\n",
              "    }\n",
              "    (() => {\n",
              "      let quickchartButtonEl =\n",
              "        document.querySelector('#df-59e28dd5-f6c0-466a-a1a5-21a0750c1e57 button');\n",
              "      quickchartButtonEl.style.display =\n",
              "        google.colab.kernel.accessAllowed ? 'block' : 'none';\n",
              "    })();\n",
              "  </script>\n",
              "</div>\n",
              "    </div>\n",
              "  </div>\n"
            ],
            "text/plain": [
              "      Comp      Squad Result   Min  Gls  Ast   Sh  SoT  PrgP  Succ\n",
              "1  Ligue 1  Paris S-G  W 5–0  90.0  2.0  1.0  6.0  4.0  14.0   6.0\n",
              "2  Ligue 1  Paris S-G  W 5–2  90.0  0.0  0.0  5.0  3.0  14.0   4.0\n",
              "3  Ligue 1  Paris S-G  W 7–1  90.0  1.0  1.0  2.0  2.0  12.0   2.0\n",
              "4  Ligue 1  Paris S-G  D 1–1  86.0  0.0  0.0  2.0  0.0   9.0   4.0\n",
              "5  Ligue 1  Paris S-G  W 3–0  82.0  0.0  2.0  7.0  4.0  10.0   3.0"
            ]
          },
          "execution_count": 165,
          "metadata": {},
          "output_type": "execute_result"
        }
      ],
      "source": [
        "import pandas as pd\n",
        "\n",
        "url = 'https://fbref.com/en/players/d70ce98e/matchlogs/2022-2023/Lionel-Messi-Match-Logs'\n",
        "tables = pd.read_html(url)\n",
        "df = tables[0]\n",
        "df.columns = df.columns.droplevel(0)\n",
        "relevant_columns = ['Comp', 'Squad', 'Result', 'Min', 'Gls', 'Ast', 'Sh', 'SoT','PrgP','Succ']\n",
        "Messi = df[relevant_columns].dropna()\n",
        "Messi.head()\n"
      ]
    },
    {
      "cell_type": "markdown",
      "source": [
        "Messi siempre ha tenido fama de playmaker por lo que creo que los pases progresivos son su fuerte, por eso diría que promedia 10 pases progresivos por partido"
      ],
      "metadata": {
        "id": "5TtPdxP4Ilkh"
      }
    },
    {
      "cell_type": "code",
      "execution_count": null,
      "metadata": {
        "colab": {
          "background_save": true,
          "base_uri": "https://localhost:8080/"
        },
        "id": "gU99rFxw4MVp",
        "outputId": "c372d395-31e1-4767-cb7e-295c01e4c95b"
      },
      "outputs": [
        {
          "name": "stdout",
          "output_type": "stream",
          "text": [
            "               T  dof alternative     p-val          CI95%   cohen-d  \\\n",
            "T-test -5.576521   45   two-sided  0.000001  [8.06, 10.15]  0.822213   \n",
            "\n",
            "             BF10     power  \n",
            "T-test  1.281e+04  0.999762  \n"
          ]
        }
      ],
      "source": [
        "#H0: meanWeight =10PrgP (Ok)\n",
        "#H1: meanWeight !=10PrgP (X)\n",
        "\n",
        "import pingouin as pg\n",
        "\n",
        "test_result = pg.ttest(Messi['PrgP'],12, alternative='two-sided')\n",
        "print(test_result)"
      ]
    },
    {
      "cell_type": "markdown",
      "source": [
        "Creo que Messi ha sido decisivo en los partidos que ha jugado, por lo que creo que cuando marca goles es más probable que se gane el partido"
      ],
      "metadata": {
        "id": "THvCEurfIMMj"
      }
    },
    {
      "cell_type": "code",
      "source": [
        "Goles_Messi = Messi[Messi['Result'].str.startswith('W')]['Gls']\n",
        "No_goles_Messi = Messi[~Messi['Result'].str.startswith('W')]['Gls']\n",
        "print(Goles_Messi.mean())\n",
        "print(No_goles_Messi.mean())"
      ],
      "metadata": {
        "colab": {
          "base_uri": "https://localhost:8080/"
        },
        "id": "V94gpdK7BhsR",
        "outputId": "e4b8581f-69f8-48b7-cd50-a5c7579e823e"
      },
      "execution_count": 170,
      "outputs": [
        {
          "output_type": "stream",
          "name": "stdout",
          "text": [
            "0.65625\n",
            "0.42857142857142855\n"
          ]
        }
      ]
    },
    {
      "cell_type": "code",
      "execution_count": 171,
      "metadata": {
        "colab": {
          "base_uri": "https://localhost:8080/"
        },
        "id": "tsOAF2Fu7HMH",
        "outputId": "504aa7f1-b671-459d-98ff-139a1751427c"
      },
      "outputs": [
        {
          "output_type": "stream",
          "name": "stdout",
          "text": [
            "               T       dof alternative     p-val         CI95%   cohen-d  \\\n",
            "T-test  1.122557  23.32101     greater  0.136525  [-0.12, inf]  0.370149   \n",
            "\n",
            "         BF10     power  \n",
            "T-test  1.024  0.305915  \n"
          ]
        }
      ],
      "source": [
        "#Hago mi test de hipotesis\n",
        "# Ho: Goles_Messi > No_goles_Messi (Ok)\n",
        "# H1: No_goles_Messi = Goles_Messi (X)\n",
        "test1_result = pg.ttest(Goles_Messi,No_goles_Messi, alternative='greater')\n",
        "print(test1_result)"
      ]
    },
    {
      "cell_type": "markdown",
      "metadata": {
        "id": "DJZspjk4ahz9"
      },
      "source": [
        "¿Las comparaciones son odiosas, pero que tan bueno fue su rendimiento en el mundial, sabemos que Messi es uno de los mejores creadores de juego por lo que destaca entre otras cosas por sus asistencias en que competición destaco más esta faceta?"
      ]
    },
    {
      "cell_type": "code",
      "source": [
        "print(Messi.groupby('Comp')['Ast'].mean)"
      ],
      "metadata": {
        "colab": {
          "base_uri": "https://localhost:8080/"
        },
        "id": "nFDLsTr7ECNp",
        "outputId": "69a03543-8818-437f-a540-c9722ffcfdbd"
      },
      "execution_count": 173,
      "outputs": [
        {
          "output_type": "stream",
          "name": "stdout",
          "text": [
            "<bound method GroupBy.mean of <pandas.core.groupby.generic.SeriesGroupBy object at 0x785f125fa830>>\n"
          ]
        }
      ]
    },
    {
      "cell_type": "code",
      "source": [
        "#Ho: Las asistencias en cualquir competicion son las mismas\n",
        "#H1: Las asistencias en cualquir competicion no son las mismas\n",
        "Asist_comp = pg.anova(data=Messi, dv='Ast',between='Comp')\n",
        "print(Asist_comp)"
      ],
      "metadata": {
        "colab": {
          "base_uri": "https://localhost:8080/"
        },
        "id": "JP5PY1pwECEi",
        "outputId": "67101493-4484-4664-b74e-36c2fb3e13dd"
      },
      "execution_count": 174,
      "outputs": [
        {
          "output_type": "stream",
          "name": "stdout",
          "text": [
            "  Source  ddof1  ddof2         F     p-unc       np2\n",
            "0   Comp      2     43  0.071667  0.930952  0.003322\n"
          ]
        }
      ]
    },
    {
      "cell_type": "code",
      "source": [
        "# Hacemos ttest entre todas las comvinaciones de categoria posibles\n",
        "Asist_comp_comparacion = pg.pairwise_tests(data=Messi,dv='Ast',between='Comp')\n",
        "print(Asist_comp_comparacion)"
      ],
      "metadata": {
        "colab": {
          "base_uri": "https://localhost:8080/"
        },
        "id": "GgUT7CUJFgb7",
        "outputId": "0160254b-11eb-435b-83fe-e68aa2232fee"
      },
      "execution_count": 175,
      "outputs": [
        {
          "output_type": "stream",
          "name": "stdout",
          "text": [
            "  Contrast             A          B  Paired  Parametric         T        dof  \\\n",
            "0     Comp  Champions Lg    Ligue 1   False        True  0.220892   8.334507   \n",
            "1     Comp  Champions Lg  World Cup   False        True  0.397360  12.000000   \n",
            "2     Comp       Ligue 1  World Cup   False        True  0.299325  11.336235   \n",
            "\n",
            "  alternative     p-unc   BF10    hedges  \n",
            "0   two-sided  0.830492  0.386  0.095858  \n",
            "1   two-sided  0.698079   0.47  0.198840  \n",
            "2   two-sided  0.770109  0.391  0.101124  \n"
          ]
        }
      ]
    },
    {
      "cell_type": "code",
      "source": [
        "import seaborn as sns\n",
        "import matplotlib.pyplot as plt\n",
        "\n",
        "# Crear un boxplot comparando asistencias en todas las competiciones\n",
        "plt.figure(figsize=(10, 6))\n",
        "sns.boxplot(x='Comp', y='Ast', data= Messi)\n",
        "plt.title('Rendimiento de Messi en Asistencias por Competición')\n",
        "plt.xlabel('Competición')\n",
        "plt.ylabel('Asistencias')\n",
        "plt.show()\n"
      ],
      "metadata": {
        "colab": {
          "base_uri": "https://localhost:8080/",
          "height": 565
        },
        "id": "C8pMyL8gG7hz",
        "outputId": "869d2fdb-f159-42fd-e997-7a544e83c2f5"
      },
      "execution_count": 178,
      "outputs": [
        {
          "output_type": "display_data",
          "data": {
            "text/plain": [
              "<Figure size 1000x600 with 1 Axes>"
            ],
            "image/png": "[encoded data removed]"
          },
          "metadata": {}
        }
      ]
    }
  ],
  "metadata": {
    "colab": {
      "provenance": []
    },
    "kernelspec": {
      "display_name": "Python 3",
      "name": "python3"
    },
    "language_info": {
      "name": "python"
    }
  },
  "nbformat": 4,
  "nbformat_minor": 0
}